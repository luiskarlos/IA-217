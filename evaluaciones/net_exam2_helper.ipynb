{
 "cells": [
  {
   "cell_type": "code",
   "execution_count": 113,
   "metadata": {
    "collapsed": true
   },
   "outputs": [],
   "source": [
    "# python notebook for Make Your Own Neural Network\n",
    "# (c) Tariq Rashid, 2016\n",
    "# license is GPLv2"
   ]
  },
  {
   "cell_type": "code",
   "execution_count": 114,
   "metadata": {
    "collapsed": true
   },
   "outputs": [],
   "source": [
    "import numpy\n",
    "# scipy.special for the sigmoid function expit()\n",
    "import scipy.special"
   ]
  },
  {
   "cell_type": "markdown",
   "metadata": {},
   "source": [
    "# Calcular peso de los links del layer origen al destino\n"
   ]
  },
  {
   "cell_type": "code",
   "execution_count": 115,
   "metadata": {},
   "outputs": [
    {
     "name": "stdout",
     "output_type": "stream",
     "text": [
      "[array([[ 0.3,  0.3,  0.2],\n",
      "       [ 0.2,  0.2,  0.1],\n",
      "       [ 0.1,  0.5,  0.3]]), array([[ 0.9,  0.6,  0.4],\n",
      "       [ 0.2,  0.3,  0.2],\n",
      "       [ 0.4,  0.1,  0.1]])]\n"
     ]
    }
   ],
   "source": [
    "wa = [\n",
    "        numpy.array(\n",
    "        [[ 0.3, 0.3, 0.2 ],\n",
    "         [ 0.2, 0.2, 0.1 ],\n",
    "         [ 0.1, 0.5, 0.3 ]]),\n",
    "        numpy.array(\n",
    "        [[ 0.9, 0.6, 0.4 ],\n",
    "         [ 0.2, 0.3, 0.2 ],\n",
    "         [ 0.4, 0.1, 0.1 ]])\n",
    "]\n",
    "\n",
    "wb = [\n",
    "    numpy.array(\n",
    "        [[ 0.4, 0.2, 0.2 ],\n",
    "         [ 0.2, 0.2, 0.8 ],\n",
    "         [ 0.7, 0.5, 0.3 ]]),\n",
    "    numpy.array(\n",
    "        [[ 0.9, 0.6, 0.4 ],\n",
    "         [ 0.2, 0.3, 0.2 ],\n",
    "         [ 0.4, 0.1, 0.1 ]])\n",
    "]\n",
    "\n",
    "wc = [\n",
    "    numpy.array(\n",
    "        [[ 0.3, 0.3, 0.3 ],\n",
    "         [ 0.1, 0.2, 0.1 ],\n",
    "         [ 0.1, 0.5, 0.2 ]]),\n",
    "    numpy.array(\n",
    "        [[ 0.9, 0.6, 0.4 ],\n",
    "         [ 0.2, 0.3, 0.2 ],\n",
    "         [ 0.4, 0.1, 0.1 ]])\n",
    "]\n",
    "\n",
    "print (wa)"
   ]
  },
  {
   "cell_type": "code",
   "execution_count": 116,
   "metadata": {
    "collapsed": true
   },
   "outputs": [],
   "source": [
    "# neural network class definition\n",
    "class neuralNetwork:\n",
    "    \n",
    "    \n",
    "    # initialise the neural network\n",
    "    def __init__(self, inputnodes, hiddennodes, outputnodes, learningrate, weigths):\n",
    "        # set number of nodes in each input, hidden, output layer\n",
    "        self.inodes = inputnodes\n",
    "        self.hnodes = hiddennodes\n",
    "        self.onodes = outputnodes\n",
    "\n",
    "        self.wih = weigths[0] \n",
    "        self.who = weigths[1] \n",
    "\n",
    "        print(\"init wih\")\n",
    "        print(self.wih)\n",
    "        \n",
    "        print(\"init who\")\n",
    "        print(self.who)\n",
    "        \n",
    "        # learning rate\n",
    "        self.lr = learningrate\n",
    "        \n",
    "        # activation function is the sigmoid function\n",
    "        self.activation_function = lambda x: scipy.special.expit(x)\n",
    "        \n",
    "        pass\n",
    "\n",
    "    \n",
    "    # train the neural network\n",
    "    def train(self, inputs_list, targets_list):\n",
    "        # convert inputs list to 2d array\n",
    "        inputs = numpy.array(inputs_list, ndmin=2).T\n",
    "        targets = numpy.array(targets_list, ndmin=2).T\n",
    "        \n",
    "        # calculate signals into hidden layer\n",
    "        hidden_inputs = numpy.dot(self.wih, inputs)\n",
    "        # calculate the signals emerging from hidden layer\n",
    "        hidden_outputs = self.activation_function(hidden_inputs)\n",
    "        \n",
    "        # calculate signals into final output layer\n",
    "        final_inputs = numpy.dot(self.who, hidden_outputs)\n",
    "        # calculate the signals emerging from final output layer\n",
    "        final_outputs = self.activation_function(final_inputs)\n",
    "        \n",
    "        # output layer error is the (target - actual)\n",
    "        output_errors = targets - final_outputs\n",
    "        \n",
    "        print(\"Final ouput\")\n",
    "        print(final_outputs)\n",
    "        \n",
    "        # hidden layer error is the output_errors, split by weights, recombined at hidden nodes\n",
    "        hidden_errors = numpy.dot(self.who.T, output_errors) \n",
    "        \n",
    "        print(\"hidden_errors\")\n",
    "        print(hidden_errors)\n",
    "        \n",
    "        # update the weights for the links between the hidden and output layers\n",
    "        self.who += self.lr * numpy.dot((output_errors * final_outputs * (1.0 - final_outputs)), numpy.transpose(hidden_outputs))\n",
    "        \n",
    " \n",
    "        \n",
    "        # update the weights for the links between the input and hidden layers\n",
    "        self.wih += self.lr * numpy.dot((hidden_errors * hidden_outputs * (1.0 - hidden_outputs)), numpy.transpose(inputs))\n",
    "        \n",
    "        print(\"bp wih\")\n",
    "        print(self.wih)\n",
    "        \n",
    "        print(\"bp who\")\n",
    "        print(self.who)\n",
    "        \n",
    "        print(\"Output errors = target - final_outputs\")\n",
    "        print(output_errors)        \n",
    "        \n",
    "        pass\n",
    "\n",
    "    \n",
    "    # query the neural network\n",
    "    def query(self, inputs_list):\n",
    "        # convert inputs list to 2d array\n",
    "        inputs = numpy.array(inputs_list, ndmin=2).T\n",
    "        \n",
    "        # calculate signals into hidden layer\n",
    "        hidden_inputs = numpy.dot(self.wih, inputs)\n",
    "        # calculate the signals emerging from hidden layer\n",
    "        hidden_outputs = self.activation_function(hidden_inputs)\n",
    "        \n",
    "        # calculate signals into final output layer\n",
    "        final_inputs = numpy.dot(self.who, hidden_outputs)\n",
    "        # calculate the signals emerging from final output layer\n",
    "        final_outputs = self.activation_function(final_inputs)\n",
    "        \n",
    "        return final_outputs"
   ]
  },
  {
   "cell_type": "markdown",
   "metadata": {},
   "source": [
    "# Crear Neural Net"
   ]
  },
  {
   "cell_type": "code",
   "execution_count": 117,
   "metadata": {
    "scrolled": true
   },
   "outputs": [
    {
     "name": "stdout",
     "output_type": "stream",
     "text": [
      "init wih\n",
      "[[ 0.3  0.3  0.2]\n",
      " [ 0.2  0.2  0.1]\n",
      " [ 0.1  0.5  0.3]]\n",
      "init who\n",
      "[[ 0.9  0.6  0.4]\n",
      " [ 0.2  0.3  0.2]\n",
      " [ 0.4  0.1  0.1]]\n"
     ]
    }
   ],
   "source": [
    "# number of input, hidden and output nodes\n",
    "input_nodes = 3\n",
    "hidden_nodes = 3\n",
    "output_nodes = 3\n",
    "\n",
    "# learning rate is 0.3\n",
    "learning_rate = 1\n",
    "\n",
    "weigth = wa\n",
    "# create instance of neural network\n",
    "n = neuralNetwork(input_nodes,hidden_nodes,output_nodes, learning_rate, weigth)"
   ]
  },
  {
   "cell_type": "code",
   "execution_count": 118,
   "metadata": {},
   "outputs": [
    {
     "name": "stdout",
     "output_type": "stream",
     "text": [
      "Final ouput\n",
      "[[ 0.73440954]\n",
      " [ 0.59247302]\n",
      " [ 0.57986125]]\n",
      "hidden_errors\n",
      "[[-0.76140769]\n",
      " [-0.52637376]\n",
      " [-0.36024455]]\n",
      "bp wih\n",
      "[[ 0.28107148  0.26214296  0.14321444]\n",
      " [ 0.18686727  0.17373454  0.0606018 ]\n",
      " [ 0.09108335  0.4821667   0.27325005]]\n",
      "bp who\n",
      "[[ 0.83349684  0.53534618  0.33196192]\n",
      " [ 0.14907201  0.25048823  0.14789657]\n",
      " [ 0.36335781  0.06437677  0.06251209]]\n",
      "Output errors = target - final_outputs\n",
      "[[-0.63440954]\n",
      " [-0.39247302]\n",
      " [-0.27986125]]\n"
     ]
    }
   ],
   "source": [
    "n.train([0.1, 0.2, 0.3], [0.1, 0.2, 0.3])\n"
   ]
  },
  {
   "cell_type": "markdown",
   "metadata": {
    "collapsed": true
   },
   "source": [
    "# "
   ]
  },
  {
   "cell_type": "markdown",
   "metadata": {
    "collapsed": true
   },
   "source": [
    "# "
   ]
  },
  {
   "cell_type": "code",
   "execution_count": null,
   "metadata": {
    "collapsed": true
   },
   "outputs": [],
   "source": []
  }
 ],
 "metadata": {
  "kernelspec": {
   "display_name": "Python 2",
   "language": "python",
   "name": "python2"
  },
  "language_info": {
   "codemirror_mode": {
    "name": "ipython",
    "version": 2
   },
   "file_extension": ".py",
   "mimetype": "text/x-python",
   "name": "python",
   "nbconvert_exporter": "python",
   "pygments_lexer": "ipython2",
   "version": "2.7.13"
  }
 },
 "nbformat": 4,
 "nbformat_minor": 1
}
